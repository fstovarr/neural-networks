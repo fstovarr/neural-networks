{
 "cells": [
  {
   "cell_type": "code",
   "execution_count": 1,
   "metadata": {},
   "outputs": [
    {
     "name": "stdout",
     "output_type": "stream",
     "text": [
      "audios.zip  metadata.csv  mp3\n",
      "/home/fstovarr/birds\n"
     ]
    }
   ],
   "source": [
    "!ls audios/\n",
    "!pwd"
   ]
  },
  {
   "cell_type": "code",
   "execution_count": 2,
   "metadata": {},
   "outputs": [
    {
     "name": "stderr",
     "output_type": "stream",
     "text": [
      "\n",
      "Bad key \"text.kerning_factor\" on line 4 in\n",
      "/home/fstovarr/anaconda3/envs/birds/lib/python3.8/site-packages/matplotlib/mpl-data/stylelib/_classic_test_patch.mplstyle.\n",
      "You probably need to get an updated matplotlibrc file from\n",
      "https://github.com/matplotlib/matplotlib/blob/v3.1.2/matplotlibrc.template\n",
      "or from the matplotlib source distribution\n"
     ]
    }
   ],
   "source": [
    "import os\n",
    "import librosa\n",
    "from pydub import AudioSegment\n",
    "import sklearn\n",
    "import numpy as np\n",
    "import matplotlib.pyplot as plt\n",
    "import librosa.display\n",
    "from random import sample\n",
    "from tqdm import tqdm\n",
    "import numpy as np\n",
    "import pandas as pd\n",
    "import random\n",
    "import re\n",
    "import threading\n",
    "from math import ceil"
   ]
  },
  {
   "cell_type": "code",
   "execution_count": 3,
   "metadata": {},
   "outputs": [],
   "source": [
    "MP3_PATH = \"/home/fstovarr/birds/audios/mp3\"\n",
    "\n",
    "mp3_files = os.listdir(MP3_PATH)\n",
    "\n",
    "FILENAME = \"data.csv\"\n",
    "\n",
    "PREPROCESSING = True\n",
    "\n",
    "# Important only if PREPROCESSING is True\n",
    "SAMPLES = len(mp3_files)\n",
    "THREADS = 8"
   ]
  },
  {
   "cell_type": "code",
   "execution_count": 4,
   "metadata": {},
   "outputs": [],
   "source": [
    "feature_names = [\n",
    "    'filename',\n",
    "    'class_name', \n",
    "    'wave_min', \n",
    "    'wave_max', \n",
    "    'wave_mean', \n",
    "    'wave_var', \n",
    "    'amp_min', \n",
    "    'amp_max', \n",
    "    'amp_mean', \n",
    "    'amp_var', \n",
    "    'spectral_centroid_min', \n",
    "    'spectral_centroid_max', \n",
    "    'spectral_centroid_mean', \n",
    "    'spectral_centroid_var', \n",
    "    'spectral_rolloff_min', \n",
    "    'spectral_rolloff_max', \n",
    "    'spectral_rolloff_mean', \n",
    "    'spectral_rolloff_var', \n",
    "    'spectral_bandwidth_min', \n",
    "    'spectral_bandwidth_max', \n",
    "    'spectral_bandwidth_mean', \n",
    "    'spectral_bandwidth_var', \n",
    "    'mel_frequency_min', \n",
    "    'mel_frequency_max', \n",
    "    'mel_frequency_mean', \n",
    "    'mel_frequency_var', \n",
    "    'chroma_min', \n",
    "    'chroma_max', \n",
    "    'chroma_mean', \n",
    "    'chroma_var',\n",
    "    'zero_crossing_rate'\n",
    " ]"
   ]
  },
  {
   "cell_type": "code",
   "execution_count": 5,
   "metadata": {},
   "outputs": [],
   "source": [
    "csv = open(FILENAME, \"w\")\n",
    "csv.write(\",\".join(map(str, feature_names)) + \"\\n\")\n",
    "csv.close()"
   ]
  },
  {
   "cell_type": "code",
   "execution_count": 6,
   "metadata": {},
   "outputs": [],
   "source": [
    "def espectrogram(x):\n",
    "    X = librosa.stft(x)\n",
    "    Xdb = librosa.amplitude_to_db(abs(X))\n",
    "    return Xdb\n",
    "\n",
    "def spectral_centroid(x, sr):\n",
    "    return librosa.feature.spectral_centroid(x, sr=sr)[0]\n",
    "\n",
    "def spectral_rolloff(x, sr):\n",
    "    return librosa.feature.spectral_rolloff(x+0.01, sr=sr)[0]\n",
    "\n",
    "def spectral_bandwidth(x, sr):\n",
    "    spectral_bandwidth_2 = librosa.feature.spectral_bandwidth(x+0.01, sr=sr)[0]\n",
    "    spectral_bandwidth_3 = librosa.feature.spectral_bandwidth(x+0.01, sr=sr, p=3)[0]\n",
    "    spectral_bandwidth_4 = librosa.feature.spectral_bandwidth(x+0.01, sr=sr, p=4)[0]\n",
    "    return (spectral_bandwidth_2, spectral_bandwidth_3, spectral_bandwidth_4)\n",
    "\n",
    "def zero_crossing_rate(x, sr, n0 = 9000, n1 = 9100):\n",
    "    return librosa.zero_crossings(x[n0:n1], pad=False)\n",
    "\n",
    "def mel_frequency(x, sr):\n",
    "    return librosa.feature.mfcc(x, sr=sr)\n",
    "\n",
    "def chroma(x, sr):\n",
    "    return librosa.feature.chroma_stft(x, sr=sr)"
   ]
  },
  {
   "cell_type": "code",
   "execution_count": 7,
   "metadata": {},
   "outputs": [],
   "source": [
    "def process_data(processed_data, files):\n",
    "    for file in tqdm(files):\n",
    "        try:\n",
    "            x, sr = librosa.load(\"{}/{}\".format(MP3_PATH, file), sr=None)\n",
    "        except Exception as e:\n",
    "            print(e, \"ERROR WITH FILE {}\".format(file))\n",
    "            continue\n",
    "        \n",
    "        tmp = []\n",
    "\n",
    "        class_name = re.search('([A-za-z-]+)-[0-9]+.mp3', file).group(1).lower()\n",
    "\n",
    "        np_fft = np.fft.fft(x)\n",
    "        amplitudes = 2/len(x) * np.abs(np_fft)\n",
    "        tmp.append(file)\n",
    "        tmp.append(class_name)\n",
    "\n",
    "        features = [x,amplitudes,spectral_centroid(x, sr),  spectral_rolloff(x, sr),  spectral_bandwidth(x, sr),  mel_frequency(x, sr),  chroma(x, sr)]\n",
    "\n",
    "        for f in features:\n",
    "            tmp.append(np.mean(f))\n",
    "            tmp.append(np.max(f))\n",
    "            tmp.append(np.min(f))\n",
    "            tmp.append(np.std(f))\n",
    "\n",
    "        tmp.append(sum(zero_crossing_rate(x, sr)))\n",
    "        \n",
    "        csv = open(FILENAME, \"a+\")\n",
    "        csv.write(\",\".join(map(str, tmp)) + \"\\n\")\n",
    "        csv.close()"
   ]
  },
  {
   "cell_type": "code",
   "execution_count": null,
   "metadata": {},
   "outputs": [],
   "source": []
  },
  {
   "cell_type": "code",
   "execution_count": 8,
   "metadata": {},
   "outputs": [
    {
     "ename": "NameError",
     "evalue": "name 'wav_files' is not defined",
     "output_type": "error",
     "traceback": [
      "\u001b[0;31m---------------------------------------------------------------------------\u001b[0m",
      "\u001b[0;31mNameError\u001b[0m                                 Traceback (most recent call last)",
      "\u001b[0;32m<ipython-input-8-e59bfe2232da>\u001b[0m in \u001b[0;36m<module>\u001b[0;34m\u001b[0m\n\u001b[1;32m      1\u001b[0m \u001b[0;32mif\u001b[0m \u001b[0mPREPROCESSING\u001b[0m\u001b[0;34m:\u001b[0m\u001b[0;34m\u001b[0m\u001b[0;34m\u001b[0m\u001b[0m\n\u001b[1;32m      2\u001b[0m     \u001b[0mthreads\u001b[0m \u001b[0;34m=\u001b[0m \u001b[0mTHREADS\u001b[0m\u001b[0;34m\u001b[0m\u001b[0;34m\u001b[0m\u001b[0m\n\u001b[0;32m----> 3\u001b[0;31m     \u001b[0mchunk_size\u001b[0m \u001b[0;34m=\u001b[0m \u001b[0mceil\u001b[0m\u001b[0;34m(\u001b[0m\u001b[0mlen\u001b[0m\u001b[0;34m(\u001b[0m\u001b[0mwav_files\u001b[0m\u001b[0;34m)\u001b[0m \u001b[0;34m/\u001b[0m \u001b[0mthreads\u001b[0m\u001b[0;34m)\u001b[0m\u001b[0;34m\u001b[0m\u001b[0;34m\u001b[0m\u001b[0m\n\u001b[0m\u001b[1;32m      4\u001b[0m     \u001b[0mjobs\u001b[0m \u001b[0;34m=\u001b[0m \u001b[0;34m[\u001b[0m\u001b[0;34m]\u001b[0m\u001b[0;34m\u001b[0m\u001b[0;34m\u001b[0m\u001b[0m\n\u001b[1;32m      5\u001b[0m \u001b[0;34m\u001b[0m\u001b[0m\n",
      "\u001b[0;31mNameError\u001b[0m: name 'wav_files' is not defined"
     ]
    }
   ],
   "source": [
    "if PREPROCESSING:\n",
    "    threads = THREADS\n",
    "    chunk_size = ceil(len(wav_files) / threads)\n",
    "    jobs = []\n",
    "\n",
    "\n",
    "    out_list = [[] for i in range(threads)]\n",
    "\n",
    "    for i in range(0, threads):\n",
    "        thread = threading.Thread(target=process_data, args=(out_list[i], mp3_files[chunk_size * i : min(chunk_size * i + chunk_size, len(mp3_files))]))\n",
    "        jobs.append(thread)\n",
    "\n",
    "    for j in jobs:\n",
    "        j.start()\n",
    "\n",
    "    for j in jobs:\n",
    "        j.join()"
   ]
  },
  {
   "cell_type": "code",
   "execution_count": null,
   "metadata": {},
   "outputs": [],
   "source": []
  }
 ],
 "metadata": {
  "kernelspec": {
   "display_name": "Python 3",
   "language": "python",
   "name": "python3"
  },
  "language_info": {
   "codemirror_mode": {
    "name": "ipython",
    "version": 3
   },
   "file_extension": ".py",
   "mimetype": "text/x-python",
   "name": "python",
   "nbconvert_exporter": "python",
   "pygments_lexer": "ipython3",
   "version": "3.8.2"
  }
 },
 "nbformat": 4,
 "nbformat_minor": 4
}
